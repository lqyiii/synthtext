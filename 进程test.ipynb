{
 "cells": [
  {
   "cell_type": "code",
   "execution_count": 21,
   "metadata": {
    "ExecuteTime": {
     "end_time": "2018-04-27T11:06:32.505398Z",
     "start_time": "2018-04-27T11:06:29.348897Z"
    },
    "collapsed": false,
    "scrolled": true
   },
   "outputs": [
    {
     "name": "stdout",
     "output_type": "stream",
     "text": [
      "Starting Thread-1\n",
      "time.struct_time(tm_year=2018, tm_mon=4, tm_mday=27, tm_hour=11, tm_min=6, tm_sec=29, tm_wday=4, tm_yday=117, tm_isdst=0)\n",
      "Starting Thread-2\n",
      "time.struct_time(tm_year=2018, tm_mon=4, tm_mday=27, tm_hour=11, tm_min=6, tm_sec=29, tm_wday=4, tm_yday=117, tm_isdst=0)\n",
      "insert\n",
      "insert\n",
      "insert\n",
      "insert\n",
      "insert\n",
      "insert\n",
      "insert\n",
      "insert\n",
      "insert\n",
      "insert\n",
      "insert\n",
      "insert\n",
      "insert\n",
      "insert\n",
      "insert\n",
      "insert\n",
      "insert\n",
      "insert\n",
      "insert\n",
      "insert\n",
      "insert\n",
      "insert\n",
      "insert\n",
      "insert\n",
      "insert\n",
      "insert\n",
      "insert\n",
      "insert\n",
      "insert\n",
      "insert\n",
      "1\n",
      "1\n",
      "1\n",
      "1\n",
      "1\n",
      "1\n",
      "1\n",
      "1\n",
      "1\n",
      "1\n",
      "1\n",
      "1\n",
      "1\n",
      "1\n",
      "1\n",
      "1\n",
      "1\n",
      "1\n",
      "1\n",
      "1\n",
      "1\n",
      "1\n",
      "1\n",
      "1\n",
      "1\n",
      "1\n",
      "1\n",
      "1\n",
      "1\n",
      "1\n",
      "Exiting Main Thread\n"
     ]
    }
   ],
   "source": [
    "# !/usr/bin/python\n",
    "# -*- coding: UTF-8 -*-\n",
    "\n",
    "import threading\n",
    "import time\n",
    "import multiprocessing\n",
    "\n",
    "list_= multiprocessing.Manager().list()\n",
    "q = multiprocessing.Queue()\n",
    "threadLock = multiprocessing.Lock()\n",
    "\n",
    "class ProcessingThread(multiprocessing.Process):\n",
    "\n",
    "    def __init__(self, threadID, name, counter):\n",
    "        multiprocessing.Process.__init__(self)\n",
    "        self.threadID = threadID\n",
    "        self.name = name\n",
    "        self.counter = counter\n",
    "\n",
    "    def run(self):\n",
    "        print \"Starting \" + self.name\n",
    "        print time.localtime()\n",
    "        processing()\n",
    "\n",
    "def processing():\n",
    "    #\n",
    "    global list_\n",
    "    threadLock.acquire()\n",
    "    list_=insert_or_print(list_)\n",
    "    # 释放锁\n",
    "    threadLock.release()\n",
    "    time.sleep(3)\n",
    "\n",
    "def insert_or_print(data):\n",
    "    if len(data)==0:\n",
    "        for i in range(30):\n",
    "            print 'insert'\n",
    "            data.append(1)\n",
    "        return data\n",
    "    else:\n",
    "        for i in data:\n",
    "            print i\n",
    "\n",
    "if __name__=='__main__':\n",
    "    multiprocessing.Lock()\n",
    "#     list_ = multiprocessing.Manager().list()\n",
    "    threads = []\n",
    "    # 创建\n",
    "    thread1 = ProcessingThread(1, \"Thread-1\", 1)\n",
    "    thread2 = ProcessingThread(2, \"Thread-2\", 2)\n",
    "\n",
    "    # 开启新线程\n",
    "    thread1.start()\n",
    "    thread2.start()\n",
    "\n",
    "    # 添加线程到线程列表\n",
    "    threads.append(thread1)\n",
    "    threads.append(thread2)\n",
    "\n",
    "    # 等待所有线程完成\n",
    "    for t in threads:\n",
    "        t.join()\n",
    "    print \"Exiting Main Thread\""
   ]
  },
  {
   "cell_type": "code",
   "execution_count": 20,
   "metadata": {
    "ExecuteTime": {
     "end_time": "2018-04-27T11:06:14.775450Z",
     "start_time": "2018-04-27T11:06:14.770886Z"
    },
    "collapsed": false
   },
   "outputs": [
    {
     "name": "stdout",
     "output_type": "stream",
     "text": [
      "5\n"
     ]
    }
   ],
   "source": [
    "q.put('a')\n",
    "print q.qsize()"
   ]
  }
 ],
 "metadata": {
  "kernelspec": {
   "display_name": "Python 2",
   "language": "python",
   "name": "python2"
  },
  "language_info": {
   "codemirror_mode": {
    "name": "ipython",
    "version": 2
   },
   "file_extension": ".py",
   "mimetype": "text/x-python",
   "name": "python",
   "nbconvert_exporter": "python",
   "pygments_lexer": "ipython2",
   "version": "2.7.13"
  }
 },
 "nbformat": 4,
 "nbformat_minor": 2
}
